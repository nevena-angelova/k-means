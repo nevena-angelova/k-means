import pandas as pd
import numpy as np
import matplotlib.pyplot as plt
import seaborn as sns
from sklearn.cluster import KMeans
from sklearn.preprocessing import StandardScaler
from sklearn.decomposition import PCA





# Зареждане на dataset-а
url = "https://data.nasa.gov/resource/y77d-th95.csv"
df = pd.read_csv(url)

df.head(10)





df.info()





df.describe()


df[df['mass'] > 1000000].head(10)








df['year'] = pd.to_datetime(df['year'], errors='coerce').dt.year
df_cleaned = df[['name', 'mass', 'year', 'reclat', 'reclong']].dropna()
df_cleaned.info()





plt.figure(figsize=(20, 20))

plt.subplot(2, 2, 1)
plt.hist(df_cleaned['mass'], bins=20, color='lightgreen', edgecolor='black')
plt.title('Маса')
plt.xlabel('Mass')
plt.ylabel('Count')

year_hundred =  df_cleaned['year'] // 10 * 10
plt.subplot(2, 2, 2)
plt.hist(year_hundred, bins=20, color='salmon', edgecolor='black')
plt.title('Година')
plt.xlabel('Year')
plt.ylabel('Count')

plt.subplot(2, 2, 3)
plt.hist(df_cleaned['reclat'], bins=20, color='lightblue', edgecolor='black')
plt.title('Географска ширина')
plt.xlabel('reclat')
plt.ylabel('Count')

plt.subplot(2, 2, 4)
plt.hist(df_cleaned['reclong'], bins=20, color='lightblue', edgecolor='black')
plt.title('Географска дължина')
plt.xlabel('reclong')
plt.ylabel('Count')

plt.tight_layout()
plt.show()





plt.figure(figsize=(15, 10))

plt.subplot(2, 2, 1)
sns.boxplot(data=df_cleaned['mass'], color='lightgreen')
plt.title('Маса')
plt.xlabel('Mass')

plt.subplot(2, 2, 2)
sns.boxplot(data=year_hundred, color='salmon')
plt.title('Година')
plt.xlabel('Year')

plt.subplot(2, 2, 3)
sns.boxplot(data=df_cleaned['reclat'], color='lightblue')
plt.title('Географска ширина')
plt.xlabel('reclat')

plt.subplot(2, 2, 4)
sns.boxplot(data=df_cleaned['reclong'], color='lightblue')
plt.title('Географска дължина')
plt.xlabel('reclong')

plt.tight_layout()
plt.show()





def get_outliers(data_frame):
    m_q1 = data_frame['mass'].quantile(0.25)
    m_q3 = data_frame['mass'].quantile(0.75)
    m_iqr = m_q3 - m_q1

    mass_ouliers_df = data_frame[(data_frame['mass'] > (m_q3 + 1.5 * m_iqr)) | (data_frame['mass'] < (m_q1 - 1.5 * m_iqr))].copy()

    return mass_ouliers_df


mass_outliers_df = get_outliers(df_cleaned)

no_outliers_df = df_cleaned[(~df_cleaned.index.isin(mass_outliers_df.index))]

no_outliers_df.describe()


def mass_boxplot(mass):
    plt.figure(figsize=(15, 6))

    sns.boxplot(data=mass, color='lightgreen')
    plt.title('Маса')
    plt.xlabel('Mass')
    
    plt.tight_layout()
    plt.show()


mass_boxplot(no_outliers_df['mass'])


big_outliers_df = get_outliers(mass_outliers_df)

no_big_outliers_df = mass_outliers_df[(~mass_outliers_df.index.isin(big_outliers_df.index))]

no_big_outliers_df.describe()


mass_boxplot(no_big_outliers_df['mass'])


mass_boxplot(big_outliers_df['mass'])





def plot_3d(mass, reclat, reclong):
    fig = plt.figure(figsize=(8, 8))
    ax = fig.add_subplot(projection="3d")
    
    scatter = ax.scatter(mass, reclat, reclong)
    
    ax.set_xlabel('Маса')
    ax.set_ylabel('Географска ширина')
    ax.set_zlabel('Географска дължина')
    
    ax.set_title('Метеоритна маса по локация')
    
    plt.show()


plot_3d(no_outliers_df['mass'], no_outliers_df['reclat'], no_outliers_df['reclong'])


plot_3d(no_big_outliers_df['mass'], no_big_outliers_df['reclat'], no_big_outliers_df['reclong'])


plot_3d(big_outliers_df['mass'], big_outliers_df['reclat'], big_outliers_df['reclong'])


def plot_2d(year, date):
    fig = plt.figure(figsize=(8, 8))
    ax = fig.add_subplot()
    
    scatter = ax.scatter(year, date)
    
    ax.set_xlabel('Година')
    ax.set_ylabel('Маса')
    
    ax.set_title('Метеоритна маса по години')
    
    plt.show()


plot_2d(no_outliers_df['year'], no_outliers_df['mass'])


plot_2d(no_big_outliers_df['year'], no_big_outliers_df['mass'])


plot_2d(big_outliers_df['year'], big_outliers_df['mass'])





scaler = StandardScaler()

scaled_data = scaler.fit_transform(no_outliers_df[['mass', 'reclat', 'reclong']])
scaled_data_year = scaler.fit_transform(no_outliers_df[['mass', 'year']])



scaled_data_df = pd.DataFrame(scaled_data, index=no_outliers_df.index, columns=('mass', 'reclat', 'reclong'))
scaled_data_year_df = pd.DataFrame(scaled_data_year, index=no_outliers_df.index, columns=('mass', 'year'))


plot_3d(scaled_data_df['mass'], scaled_data_df['reclat'] , scaled_data_df['reclong'])


plot_2d(scaled_data_year_df['year'], scaled_data_year_df['mass'])





scaled_data_df.info()


max_k = 12

inertia = []
k_values = range(2, max_k + 1)

for k in k_values:

    kmeans = KMeans(n_clusters=k, random_state=42)
    kmeans.fit_predict(scaled_data_df)
    inertia.append(kmeans.inertia_)

plt.figure(figsize=(14, 6))

plt.subplot(1, 2, 1)
plt.plot(k_values, inertia, marker='o')
plt.title('KMeans инерция за различни стойности на k')
plt.xlabel('Брой клъстери (k)')
plt.ylabel('Инерция')
plt.xticks(k_values)
plt.grid(True)





max_k = 12

inertia = []
k_values = range(2, max_k + 1)

for k in k_values:

    kmeans = KMeans(n_clusters=k, random_state=42)
    kmeans.fit_predict(scaled_data_year_df)
    inertia.append(kmeans.inertia_)

plt.figure(figsize=(14, 6))

plt.subplot(1, 2, 1)
plt.plot(k_values, inertia, marker='o')
plt.title('KMeans инерция за различни стойности на k')
plt.xlabel('Брой клъстери (k)')
plt.ylabel('Инерция')
plt.xticks(k_values)
plt.grid(True)





kmeans = KMeans(n_clusters=4, random_state=42)
labels = kmeans.fit_predict(scaled_data_df)

kmeans_year = KMeans(n_clusters=3, random_state=42)
labels_year = kmeans_year.fit_predict(scaled_data_year_df)


no_outliers_df['cluster'] = labels
no_outliers_df['cluster_year'] = labels_year

no_outliers_df.head(10)


cluster_colors = {0: '#1f77b4',  # Blue
                  1: '#ff7f0e',  # Orange
                  2: '#2ca02c',  # Green
                  3: '#d62728'}  # Red

colors = no_outliers_df['cluster'].map(cluster_colors)

fig = plt.figure(figsize=(10, 10))
ax = fig.add_subplot(projection='3d')

scatter = ax.scatter(no_outliers_df['mass'], 
                     no_outliers_df['reclat'], 
                     no_outliers_df['reclong'], 
                     c=colors,  # Use mapped solid colors
                     marker='o')

ax.set_xlabel('Маса')
ax.set_ylabel('Географска ширина')
ax.set_zlabel('Географск дължина')

ax.set_title('K-Means клъстеризация на метеоритните удари по локация')

plt.show()





cluster_colors_year = {0: '#1f77b4',  # Blue
                  1: '#ff7f0e',  # Orange
                  2: '#2ca02c'}  # Green

colors_year = no_outliers_df['cluster_year'].map(cluster_colors_year)

fig = plt.figure(figsize=(10, 10))
ax = fig.add_subplot()

scatter = ax.scatter(no_outliers_df['year'], no_outliers_df['mass'], c=colors_year, marker='o')

ax.set_xlabel('Година')
ax.set_ylabel('Маса')

ax.set_title('K-Means клъстеризация на метеоритните удари във времето')

plt.show()
