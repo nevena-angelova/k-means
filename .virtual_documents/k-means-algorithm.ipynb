import numpy as np
import matplotlib.pyplot as plt
from sklearn.datasets import make_blobs

# Генериране на случайни данни
X, _ = make_blobs(n_samples=300, centers=4, cluster_std=0.6, random_state=42)

class KMeans:
    def __init__(self, k=3, max_iters=100):
        self.k = k
        self.max_iters = max_iters
        self.centroids = None
    
    def fit(self, X):
        # Инициализация на центроидите
        self.centroids = X[np.random.choice(X.shape[0], self.k, replace=False)]
        
        for _ in range(self.max_iters):
            # Намиране на най-близкия центроид за всяка точка
            labels = self._assign_clusters(X)
            print(labels)
            
            # Преизчисляване на центроидите
            new_centroids = np.array([X[labels == i].mean(axis=0) for i in range(self.k)])
            
            # Ако центроидите не се променят, спираме итерацията
            if np.all(new_centroids == self.centroids):
                break
            
            self.centroids = new_centroids
        
        return labels
    
    def _assign_clusters(self, X):
        distances = np.linalg.norm(X[:, np.newaxis] - self.centroids, axis=2)
        return np.argmin(distances, axis=1)

# Изпълнение на K-Means
kmeans = KMeans(k=4)
labels = kmeans.fit(X)

# Визуализация на резултатите
plt.scatter(X[:, 0], X[:, 1], c=labels, cmap='viridis', alpha=0.6)
plt.scatter(kmeans.centroids[:, 0], kmeans.centroids[:, 1], s=300, c='red', marker='X')
plt.title("K-Means Clustering")
plt.show()



